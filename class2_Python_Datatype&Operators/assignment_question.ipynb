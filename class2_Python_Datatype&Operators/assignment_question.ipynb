{
 "cells": [
  {
   "cell_type": "markdown",
   "metadata": {},
   "source": [
    "# Lesson 1.2: Python Basics\n",
    "## Topics Covered:\n",
    "- Syntax and Semantics\n",
    "- Variables and Data Types\n",
    "- Basic Operators (Arithmetic, Comparison, Logical)\n"
   ]
  },
  {
   "cell_type": "markdown",
   "metadata": {},
   "source": [
    "## 1. Syntax and Semantics\n",
    "\n",
    "**Question 1:** Write a Python program to print \"Hello, World!\"."
   ]
  },
  {
   "cell_type": "code",
   "execution_count": null,
   "metadata": {},
   "outputs": [],
   "source": [
    "# Your code here\n",
    "print(\"Hello, World\")"
   ]
  },
  {
   "cell_type": "markdown",
   "metadata": {},
   "source": [
    "**Question 2:** Write a Python program that takes a user input and prints it."
   ]
  },
  {
   "cell_type": "code",
   "execution_count": 1,
   "metadata": {},
   "outputs": [
    {
     "name": "stdout",
     "output_type": "stream",
     "text": [
      "Your entered age is: 21\n"
     ]
    }
   ],
   "source": [
    "# Your code here\n",
    "user_input = input(\"Please enter your age\")\n",
    "message = print(\"Your entered age is:\",user_input)"
   ]
  },
  {
   "cell_type": "markdown",
   "metadata": {},
   "source": [
    "**Question 3:** Write a Python program to check if a number is positive, negative, or zero."
   ]
  },
  {
   "cell_type": "code",
   "execution_count": 4,
   "metadata": {},
   "outputs": [
    {
     "name": "stdout",
     "output_type": "stream",
     "text": [
      "The entered number is zero\n"
     ]
    }
   ],
   "source": [
    "# Your code here\n",
    "number = int(input(\"Please input a number:- \"))\n",
    "if number> 0:\n",
    "    print(\"The input number is positive\")\n",
    "elif number<0:\n",
    "    print(\"The input number is negative\")\n",
    "else:\n",
    "    print(\"The entered number is zero\")\n"
   ]
  },
  {
   "cell_type": "markdown",
   "metadata": {},
   "source": [
    "**Question 4:** Write a Python program to find the largest of three numbers."
   ]
  },
  {
   "cell_type": "code",
   "execution_count": 6,
   "metadata": {},
   "outputs": [
    {
     "name": "stdout",
     "output_type": "stream",
     "text": [
      "Greatest number is :-  44\n"
     ]
    }
   ],
   "source": [
    "# Your code here\n",
    "num1 = int(input(\"Enter your first number:- \"))\n",
    "num2 = int(input(\"Enter your second number:- \"))\n",
    "num3 = int(input(\"Enter your third number:- \"))\n",
    "if num1>=num2 and num1 >=num3:\n",
    "    print(\"Greatest number is :- \",num1)\n",
    "elif num2>=num1 and num2 >=num3:\n",
    "    print(\"Greatest number is :- \",num2)\n",
    "else:\n",
    "    print(\"Greatest number is :- \",num3)\n"
   ]
  },
  {
   "cell_type": "markdown",
   "metadata": {},
   "source": [
    "**Question 5:** Write a Python program to calculate the factorial of a number."
   ]
  },
  {
   "cell_type": "code",
   "execution_count": 8,
   "metadata": {},
   "outputs": [
    {
     "name": "stdout",
     "output_type": "stream",
     "text": [
      "Factorial of the given number:-  120\n"
     ]
    }
   ],
   "source": [
    "# Your code here\n",
    "number = int(input(\"Enter your number to get factorial:- \"))\n",
    "result = 1\n",
    "for i in range(1,number+1):\n",
    "    result *= i\n",
    "print(\"Factorial of the given number:- \",result)\n"
   ]
  },
  {
   "cell_type": "markdown",
   "metadata": {},
   "source": [
    "## 2. Variables and Data Types\n",
    "\n",
    "**Question 6:** Create variables of different data types: integer, float, string, and boolean. Print their values and types."
   ]
  },
  {
   "cell_type": "code",
   "execution_count": 9,
   "metadata": {},
   "outputs": [
    {
     "name": "stdout",
     "output_type": "stream",
     "text": [
      "Anuruddh Kumar Bajpai <class 'str'>\n",
      "21 <class 'int'>\n",
      "7.8 <class 'float'>\n",
      "True <class 'bool'>\n"
     ]
    }
   ],
   "source": [
    "# Your code here\n",
    "name = \"Anuruddh Kumar Bajpai\"\n",
    "age = 21\n",
    "cgpa = 7.8\n",
    "passed = True\n",
    "\n",
    "print(name,type(name))\n",
    "print(age,type(age))\n",
    "print(cgpa,type(cgpa))\n",
    "print(passed,type(passed))"
   ]
  },
  {
   "cell_type": "markdown",
   "metadata": {},
   "source": [
    "**Question 7:** Write a Python program to swap the values of two variables."
   ]
  },
  {
   "cell_type": "code",
   "execution_count": 11,
   "metadata": {},
   "outputs": [
    {
     "name": "stdout",
     "output_type": "stream",
     "text": [
      "a:-  20\n",
      "b:-  10\n"
     ]
    }
   ],
   "source": [
    "# Your code here\n",
    "a =10\n",
    "b = 20\n",
    "\n",
    "# c = a\n",
    "# a = b\n",
    "# b = c\n",
    "\n",
    "\n",
    "\n",
    "a,b = b,a\n",
    "print(\"a:- \",a)\n",
    "print(\"b:- \",b)"
   ]
  },
  {
   "cell_type": "markdown",
   "metadata": {},
   "source": [
    "**Question 8:** Write a Python program to convert Celsius to Fahrenheit."
   ]
  },
  {
   "cell_type": "code",
   "execution_count": 14,
   "metadata": {},
   "outputs": [
    {
     "name": "stdout",
     "output_type": "stream",
     "text": [
      "Your fahrenheit temprature is:- 99.68\n"
     ]
    }
   ],
   "source": [
    "# Your code here\n",
    "celsius_temp = eval(input(\"Enter your celsius tempratur :- \"))\n",
    "fahrenheit_temp = 1.8*celsius_temp +32\n",
    "print(f\"Your fahrenheit temprature is:- {fahrenheit_temp}\")"
   ]
  },
  {
   "cell_type": "markdown",
   "metadata": {},
   "source": [
    "**Question 9:** Write a Python program to concatenate two strings."
   ]
  },
  {
   "cell_type": "code",
   "execution_count": 15,
   "metadata": {},
   "outputs": [
    {
     "name": "stdout",
     "output_type": "stream",
     "text": [
      "Anuruddh Bajpai\n"
     ]
    }
   ],
   "source": [
    "# Your code here\n",
    "str1 = \"Anuruddh \"\n",
    "str2 = \"Bajpai\"\n",
    "print(str1+str2)\n"
   ]
  },
  {
   "cell_type": "markdown",
   "metadata": {},
   "source": [
    "**Question 10:** Write a Python program to check if a variable is of a specific data type."
   ]
  },
  {
   "cell_type": "code",
   "execution_count": 16,
   "metadata": {},
   "outputs": [
    {
     "name": "stdout",
     "output_type": "stream",
     "text": [
      "10.9 is a float\n"
     ]
    }
   ],
   "source": [
    "# Your code here\n",
    "var = 10.9\n",
    "if isinstance(var, float):\n",
    "    print(f\"{var} is a float\")\n",
    "else:\n",
    "    print(f\"{var} is not a float\")"
   ]
  },
  {
   "cell_type": "markdown",
   "metadata": {},
   "source": [
    "## 3. Basic Operators (Arithmetic, Comparison, Logical)\n",
    "\n",
    "**Question 11:** Write a Python program to perform arithmetic operations: addition, subtraction, multiplication, and division."
   ]
  },
  {
   "cell_type": "code",
   "execution_count": 19,
   "metadata": {},
   "outputs": [
    {
     "name": "stdout",
     "output_type": "stream",
     "text": [
      "Addition :-  52\n",
      "Subtraction :-  8\n",
      "Multiplication :-  660\n",
      "Devision :- 1.36\n"
     ]
    }
   ],
   "source": [
    "# Your code here\n",
    "num1 = 30\n",
    "num2= 22\n",
    "print(\"Addition :- \",num1+num2)\n",
    "print(\"Subtraction :- \",num1-num2)\n",
    "print(\"Multiplication :- \",num1*num2)\n",
    "print(f\"Devision :- {num1/num2:.2f}\")"
   ]
  },
  {
   "cell_type": "markdown",
   "metadata": {},
   "source": [
    "**Question 12:** Write a Python program to demonstrate comparison operators: equal to, not equal to, greater than, less than."
   ]
  },
  {
   "cell_type": "code",
   "execution_count": 21,
   "metadata": {},
   "outputs": [
    {
     "name": "stdout",
     "output_type": "stream",
     "text": [
      "EqualTo operator 10==23: False\n",
      "Not EqualTo operator 10!=23: True\n",
      "Less than operator 10<23: True\n",
      "Greater than operator 10>23: False\n"
     ]
    }
   ],
   "source": [
    "# Your code here\n",
    "a = 10\n",
    "b = 23\n",
    "print(f\"EqualTo operator {a}=={b}: {a==b}\")\n",
    "print(f\"Not EqualTo operator {a}!={b}: {a!=b}\")\n",
    "print(f\"Less than operator {a}<{b}: {a<b}\")\n",
    "print(f\"Greater than operator {a}>{b}: {a>b}\")"
   ]
  },
  {
   "cell_type": "markdown",
   "metadata": {},
   "source": [
    "**Question 13:** Write a Python program to demonstrate logical operators: and, or, not."
   ]
  },
  {
   "cell_type": "code",
   "execution_count": 24,
   "metadata": {},
   "outputs": [
    {
     "name": "stdout",
     "output_type": "stream",
     "text": [
      "AND perator (True AND False) : False\n",
      "OR perator (True OR False) : True\n",
      "NOT perator (NOT False) : True\n"
     ]
    }
   ],
   "source": [
    "# Your code here\n",
    "a = True\n",
    "b = False\n",
    "print(f\"AND perator ({a} AND {b}) : {a and b}\")\n",
    "print(f\"OR perator ({a} OR {b}) : {a or b}\")\n",
    "print(f\"NOT perator (NOT {b}) : {not b}\")"
   ]
  },
  {
   "cell_type": "markdown",
   "metadata": {},
   "source": [
    "**Question 14:** Write a Python program to calculate the square of a number."
   ]
  },
  {
   "cell_type": "code",
   "execution_count": 27,
   "metadata": {},
   "outputs": [
    {
     "name": "stdout",
     "output_type": "stream",
     "text": [
      "Square of the number(9) is 81\n"
     ]
    }
   ],
   "source": [
    "# Your code here\n",
    "number = int(input(\"Enter the number to get square:- \"))\n",
    "print(f\"Square of the number({number}) is {number*number}\")\n"
   ]
  },
  {
   "cell_type": "markdown",
   "metadata": {},
   "source": [
    "**Question 15:** Write a Python program to check if a number is even or odd."
   ]
  },
  {
   "cell_type": "code",
   "execution_count": 29,
   "metadata": {},
   "outputs": [
    {
     "name": "stdout",
     "output_type": "stream",
     "text": [
      "Number 90 is an even number.\n"
     ]
    }
   ],
   "source": [
    "# Your code here\n",
    "number = int(input(\"Enter a number to check odd/even :- \"))\n",
    "if number%2 != 0:\n",
    "    print(f\"number {number} is an odd number.\")\n",
    "else:\n",
    "    print(f\"Number {number} is an even number.\")"
   ]
  },
  {
   "cell_type": "markdown",
   "metadata": {},
   "source": [
    "**Question 16:** Write a Python program to find the sum of the first n natural numbers."
   ]
  },
  {
   "cell_type": "code",
   "execution_count": 30,
   "metadata": {},
   "outputs": [
    {
     "name": "stdout",
     "output_type": "stream",
     "text": [
      "Sum of 6 natural number from starting is :- 21.0 \n"
     ]
    }
   ],
   "source": [
    "# Your code here\n",
    "number = int(input(\"Enter the range of the number:- \"))\n",
    "sum_of_n_natural_number = number*(number+1)/2\n",
    "print(f\"Sum of {number} natural number from starting is :- {sum_of_n_natural_number} \")"
   ]
  },
  {
   "cell_type": "markdown",
   "metadata": {},
   "source": [
    "**Question 17:** Write a Python program to check if a year is a leap year."
   ]
  },
  {
   "cell_type": "code",
   "execution_count": 33,
   "metadata": {},
   "outputs": [
    {
     "name": "stdout",
     "output_type": "stream",
     "text": [
      "Entered year is not a leap year.\n"
     ]
    }
   ],
   "source": [
    "# Your code here\n",
    "year = int(input(\"Enter your year to check it is leap or not :-\"))\n",
    "if ((year %4 == 0 and year %100 != 0 ) or (year %400 == 0)):\n",
    "    print(\"Entered year is a leap year.\")\n",
    "else:\n",
    "    print(\"Entered year is not a leap year.\")\n",
    "    "
   ]
  },
  {
   "cell_type": "markdown",
   "metadata": {},
   "source": [
    "**Question 18:** Write a Python program to reverse a string."
   ]
  },
  {
   "cell_type": "code",
   "execution_count": 34,
   "metadata": {},
   "outputs": [
    {
     "name": "stdout",
     "output_type": "stream",
     "text": [
      "iapajB hdduruna\n"
     ]
    }
   ],
   "source": [
    "# Your code here\n",
    "Input_String = input(\"Enter your string :- \")\n",
    "reversed_string = Input_String[::-1]\n",
    "print(reversed_string)"
   ]
  },
  {
   "cell_type": "markdown",
   "metadata": {},
   "source": [
    "**Question 19:** Write a Python program to check if a string is a palindrome."
   ]
  },
  {
   "cell_type": "code",
   "execution_count": 37,
   "metadata": {},
   "outputs": [
    {
     "name": "stdout",
     "output_type": "stream",
     "text": [
      "Given string abcbcb is not a palianfrome string.\n"
     ]
    }
   ],
   "source": [
    "# Your code here\n",
    "Input_String = input(\"Enter your string :- \")\n",
    "reversed_string = Input_String[::-1]\n",
    "if Input_String == reversed_string:\n",
    "    print(f\"Given string {Input_String} is a palindrome string.\")\n",
    "else:\n",
    "    print(f\"Given string {Input_String} is not a palianfrome string.\")"
   ]
  },
  {
   "cell_type": "markdown",
   "metadata": {},
   "source": [
    "**Question 20:** Write a Python program to sort a list of numbers in ascending order."
   ]
  },
  {
   "cell_type": "code",
   "execution_count": 39,
   "metadata": {},
   "outputs": [
    {
     "name": "stdout",
     "output_type": "stream",
     "text": [
      "[1, 2, 3, 5, 5, 8, 9]\n"
     ]
    }
   ],
   "source": [
    "# Your code here\n",
    "l = [5,3,8,5,2,9,1]\n",
    "print(sorted(l))\n"
   ]
  }
 ],
 "metadata": {
  "kernelspec": {
   "display_name": "Python 3",
   "language": "python",
   "name": "python3"
  },
  "language_info": {
   "codemirror_mode": {
    "name": "ipython",
    "version": 3
   },
   "file_extension": ".py",
   "mimetype": "text/x-python",
   "name": "python",
   "nbconvert_exporter": "python",
   "pygments_lexer": "ipython3",
   "version": "3.12.1"
  }
 },
 "nbformat": 4,
 "nbformat_minor": 4
}
