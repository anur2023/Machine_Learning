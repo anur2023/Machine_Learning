{
 "cells": [
  {
   "cell_type": "code",
   "execution_count": 5,
   "metadata": {},
   "outputs": [],
   "source": [
    "from nltk.tokenize import sent_tokenize"
   ]
  },
  {
   "cell_type": "code",
   "execution_count": 6,
   "metadata": {},
   "outputs": [],
   "source": [
    "corpous = \"\"\" \n",
    "             Online learning platforms have democratized access to education, enabling students worldwide to learn new skills from top educators. The rise of virtual classrooms and digital resources has transformed traditional teaching methods, making education more inclusive and adaptable.\n",
    "\n",
    "\"\"\""
   ]
  },
  {
   "cell_type": "code",
   "execution_count": 9,
   "metadata": {},
   "outputs": [],
   "source": [
    "sentenses = sent_tokenize(corpous)"
   ]
  },
  {
   "cell_type": "code",
   "execution_count": 10,
   "metadata": {},
   "outputs": [
    {
     "name": "stdout",
     "output_type": "stream",
     "text": [
      " \n",
      "             Online learning platforms have democratized access to education, enabling students worldwide to learn new skills from top educators.\n",
      "The rise of virtual classrooms and digital resources has transformed traditional teaching methods, making education more inclusive and adaptable.\n"
     ]
    }
   ],
   "source": [
    "for sentense in sentenses:\n",
    "    print(sentense)"
   ]
  },
  {
   "cell_type": "code",
   "execution_count": 11,
   "metadata": {},
   "outputs": [],
   "source": [
    "from nltk.tokenize import word_tokenize"
   ]
  },
  {
   "cell_type": "code",
   "execution_count": 12,
   "metadata": {},
   "outputs": [
    {
     "data": {
      "text/plain": [
       "['Online',\n",
       " 'learning',\n",
       " 'platforms',\n",
       " 'have',\n",
       " 'democratized',\n",
       " 'access',\n",
       " 'to',\n",
       " 'education',\n",
       " ',',\n",
       " 'enabling',\n",
       " 'students',\n",
       " 'worldwide',\n",
       " 'to',\n",
       " 'learn',\n",
       " 'new',\n",
       " 'skills',\n",
       " 'from',\n",
       " 'top',\n",
       " 'educators',\n",
       " '.',\n",
       " 'The',\n",
       " 'rise',\n",
       " 'of',\n",
       " 'virtual',\n",
       " 'classrooms',\n",
       " 'and',\n",
       " 'digital',\n",
       " 'resources',\n",
       " 'has',\n",
       " 'transformed',\n",
       " 'traditional',\n",
       " 'teaching',\n",
       " 'methods',\n",
       " ',',\n",
       " 'making',\n",
       " 'education',\n",
       " 'more',\n",
       " 'inclusive',\n",
       " 'and',\n",
       " 'adaptable',\n",
       " '.']"
      ]
     },
     "execution_count": 12,
     "metadata": {},
     "output_type": "execute_result"
    }
   ],
   "source": [
    "word_tokenize(corpous)"
   ]
  },
  {
   "cell_type": "code",
   "execution_count": 13,
   "metadata": {},
   "outputs": [],
   "source": [
    "from nltk.tokenize import wordpunct_tokenize"
   ]
  },
  {
   "cell_type": "code",
   "execution_count": 14,
   "metadata": {},
   "outputs": [
    {
     "data": {
      "text/plain": [
       "['Online',\n",
       " 'learning',\n",
       " 'platforms',\n",
       " 'have',\n",
       " 'democratized',\n",
       " 'access',\n",
       " 'to',\n",
       " 'education',\n",
       " ',',\n",
       " 'enabling',\n",
       " 'students',\n",
       " 'worldwide',\n",
       " 'to',\n",
       " 'learn',\n",
       " 'new',\n",
       " 'skills',\n",
       " 'from',\n",
       " 'top',\n",
       " 'educators',\n",
       " '.',\n",
       " 'The',\n",
       " 'rise',\n",
       " 'of',\n",
       " 'virtual',\n",
       " 'classrooms',\n",
       " 'and',\n",
       " 'digital',\n",
       " 'resources',\n",
       " 'has',\n",
       " 'transformed',\n",
       " 'traditional',\n",
       " 'teaching',\n",
       " 'methods',\n",
       " ',',\n",
       " 'making',\n",
       " 'education',\n",
       " 'more',\n",
       " 'inclusive',\n",
       " 'and',\n",
       " 'adaptable',\n",
       " '.']"
      ]
     },
     "execution_count": 14,
     "metadata": {},
     "output_type": "execute_result"
    }
   ],
   "source": [
    "wordpunct_tokenize(corpous)"
   ]
  },
  {
   "cell_type": "code",
   "execution_count": 16,
   "metadata": {},
   "outputs": [
    {
     "data": {
      "text/plain": [
       "'O n l i n e   l e a r n i n g   p l a t f o r m s   h a v e   d e m o c r a t i z e d   a c c e s s   t o   e d u c a t i o n,   e n a b l i n g   s t u d e n t s   w o r l d w i d e   t o   l e a r n   n e w   s k i l l s   f r o m   t o p   e d u c a t o r s .   T h e   r i s e   o f   v i r t u a l   c l a s s r o o m s   a n d   d i g i t a l   r e s o u r c e s   h a s   t r a n s f o r m e d   t r a d i t i o n a l   t e a c h i n g   m e t h o d s,   m a k i n g   e d u c a t i o n   m o r e   i n c l u s i v e   a n d   a d a p t a b l e.'"
      ]
     },
     "execution_count": 16,
     "metadata": {},
     "output_type": "execute_result"
    }
   ],
   "source": [
    "from nltk.tokenize import TreebankWordDetokenizer\n",
    "tokenizer = TreebankWordDetokenizer()\n",
    "tokenizer.tokenize(corpous)"
   ]
  }
 ],
 "metadata": {
  "kernelspec": {
   "display_name": "Python 3",
   "language": "python",
   "name": "python3"
  },
  "language_info": {
   "codemirror_mode": {
    "name": "ipython",
    "version": 3
   },
   "file_extension": ".py",
   "mimetype": "text/x-python",
   "name": "python",
   "nbconvert_exporter": "python",
   "pygments_lexer": "ipython3",
   "version": "3.12.1"
  }
 },
 "nbformat": 4,
 "nbformat_minor": 2
}
