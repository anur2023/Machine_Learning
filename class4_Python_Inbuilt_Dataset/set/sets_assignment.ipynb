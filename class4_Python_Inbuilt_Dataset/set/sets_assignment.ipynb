{
 "cells": [
  {
   "cell_type": "markdown",
   "metadata": {},
   "source": [
    "# Module 3: Data Structures Assignments\n",
    "## Lesson 3.3: Sets"
   ]
  },
  {
   "cell_type": "markdown",
   "id": "6eda6ff6",
   "metadata": {},
   "source": [
    "## Lesson 3.3: Sets\n",
    "### Assignment 1: Creating and Accessing Sets\n",
    "\n",
    "Create a set with the first 10 positive integers. Print the set.\n",
    "\n"
   ]
  },
  {
   "cell_type": "code",
   "execution_count": 1,
   "id": "d48c64f5",
   "metadata": {},
   "outputs": [
    {
     "name": "stdout",
     "output_type": "stream",
     "text": [
      "Set of first 10 positive integer is :- {1, 2, 3, 4, 5, 6, 7, 8, 9, 10} \n",
      " Type of the set is :- <class 'set'>\n"
     ]
    }
   ],
   "source": [
    "Set = {1,2,3,4,5,6,7,8,9,10}\n",
    "print(f\"Set of first 10 positive integer is :- {Set} \\n Type of the set is :- {type(Set)}\")"
   ]
  },
  {
   "cell_type": "markdown",
   "id": "33ae8027",
   "metadata": {},
   "source": [
    "### Assignment 2: Adding and Removing Elements\n",
    "\n",
    "Add the number 11 to the set created in Assignment 1. Then remove the number 1 from the set. Print the modified set.\n"
   ]
  },
  {
   "cell_type": "code",
   "execution_count": 4,
   "id": "5715132c",
   "metadata": {},
   "outputs": [
    {
     "name": "stdout",
     "output_type": "stream",
     "text": [
      "Original set is :- {1, 2, 3, 4, 5, 6, 7, 8, 9, 10}\n",
      "Modified set is :- {2, 3, 4, 5, 6, 7, 8, 9, 10, 11}\n"
     ]
    }
   ],
   "source": [
    "Set = {1,2,3,4,5,6,7,8,9,10}\n",
    "Original_set = Set.copy()\n",
    "Set.add(11)\n",
    "Set.remove(1)\n",
    "print(f\"Original set is :- {Original_set}\")\n",
    "print(f\"Modified set is :- {Set}\")"
   ]
  },
  {
   "cell_type": "markdown",
   "id": "37553c70",
   "metadata": {},
   "source": [
    "\n",
    "### Assignment 3: Set Operations\n",
    "\n",
    "Create two sets: one with the first 5 positive integers and another with the first 5 even integers. Perform and print the results of union, intersection, difference, and symmetric difference operations on these sets."
   ]
  },
  {
   "cell_type": "code",
   "execution_count": 5,
   "id": "c7b40f15",
   "metadata": {},
   "outputs": [
    {
     "name": "stdout",
     "output_type": "stream",
     "text": [
      "Union of both the set1 and set2 is :- {1, 2, 3, 4, 5, 6, 8, 10}\n",
      "Intersection of both the set1 and set2 is :- {2, 4}\n",
      "Difference of both the set1 and set2 is :- {1, 3, 5}\n",
      "Symmentric difference of both the set1 and set2 is :- {1, 3, 5, 6, 8, 10}\n"
     ]
    }
   ],
   "source": [
    "set1 = {1,2,3,4,5}\n",
    "set2 = {2,4,6,8,10}\n",
    "print(f'Union of both the set1 and set2 is :- {set1.union(set2)}')\n",
    "print(f'Intersection of both the set1 and set2 is :- {set1.intersection(set2)}')\n",
    "print(f'Difference of both the set1 and set2 is :- {set1.difference(set2)}')\n",
    "print(f'Symmentric difference of both the set1 and set2 is :- {set1.symmetric_difference(set2)}')"
   ]
  },
  {
   "cell_type": "markdown",
   "id": "ecc64c0c",
   "metadata": {},
   "source": [
    "### Assignment 4: Set Comprehensions\n",
    "\n",
    "Create a new set containing the squares of the first 10 positive integers using a set comprehension. Print the new set.\n",
    "\n"
   ]
  },
  {
   "cell_type": "code",
   "execution_count": 8,
   "id": "776a98ea",
   "metadata": {},
   "outputs": [
    {
     "name": "stdout",
     "output_type": "stream",
     "text": [
      "updated set of given set is :- [1, 4, 9, 16, 25, 36, 49, 64, 81, 100]\n"
     ]
    }
   ],
   "source": [
    "st = {1,2,3,4,5,6,7,8,9,10}\n",
    "updated_set = {ele**2 for ele in st}\n",
    "print(f\"updated set of given set is :- {sorted(updated_set)}\")"
   ]
  },
  {
   "cell_type": "markdown",
   "id": "91687c4e",
   "metadata": {},
   "source": [
    "### Assignment 5: Filtering Sets\n",
    "\n",
    "Create a new set containing only the even numbers from the set created in Assignment 1 using a set comprehension. Print the new set."
   ]
  },
  {
   "cell_type": "code",
   "execution_count": 9,
   "id": "290db02e",
   "metadata": {},
   "outputs": [
    {
     "name": "stdout",
     "output_type": "stream",
     "text": [
      "New set of only even number of elements :- {2, 4, 6, 8, 10}\n"
     ]
    }
   ],
   "source": [
    "Set = {1,2,3,4,5,6,7,8,9,10}\n",
    "new_set = {ele for ele in Set if ele%2==0}\n",
    "print(f\"New set of only even number of elements :- {new_set}\")"
   ]
  },
  {
   "cell_type": "markdown",
   "id": "4e694e84",
   "metadata": {},
   "source": [
    "### Assignment 6: Set Methods\n",
    "\n",
    "Create a set with duplicate elements and remove the duplicates using set methods. Print the modified set.\n",
    "\n"
   ]
  },
  {
   "cell_type": "code",
   "execution_count": 11,
   "id": "4d49d0f6",
   "metadata": {},
   "outputs": [
    {
     "name": "stdout",
     "output_type": "stream",
     "text": [
      "updated set of the given set is :- {1, 2, 3, 4, 7}\n"
     ]
    }
   ],
   "source": [
    "St = {1,2,4,3,2,4,2,7}\n",
    "updated_set = set(St)\n",
    "print(f\"updated set of the given set is :- {updated_set}\")"
   ]
  },
  {
   "cell_type": "markdown",
   "id": "18ae2237",
   "metadata": {},
   "source": [
    "### Assignment 7: Subsets and Supersets\n",
    "\n",
    "Create two sets: one with the first 5 positive integers and another with the first 3 positive integers. Check if the second set is a subset of the first set and if the first set is a superset of the second set. Print the results."
   ]
  },
  {
   "cell_type": "code",
   "execution_count": 12,
   "id": "3b00dd25",
   "metadata": {},
   "outputs": [
    {
     "name": "stdout",
     "output_type": "stream",
     "text": [
      "Is set2 a subset of set1? True\n",
      "Is set1 a superset of set2? True\n"
     ]
    }
   ],
   "source": [
    "set1 = set(range(1, 6))\n",
    "set2 = set(range(1, 4))\n",
    "print(f\"Is set2 a subset of set1? {set2.issubset(set1)}\")\n",
    "print(f\"Is set1 a superset of set2? {set1.issuperset(set2)}\")"
   ]
  },
  {
   "cell_type": "markdown",
   "id": "5c5308f6",
   "metadata": {},
   "source": [
    "### Assignment 8: Frozenset\n",
    "\n",
    "Create a frozenset with the first 5 positive integers. Print the frozenset.\n",
    "\n"
   ]
  },
  {
   "cell_type": "code",
   "execution_count": 13,
   "id": "191759a7",
   "metadata": {},
   "outputs": [
    {
     "name": "stdout",
     "output_type": "stream",
     "text": [
      "frozenset({1, 2, 3, 4, 5})\n"
     ]
    }
   ],
   "source": [
    "set1 = frozenset(range(1, 6))\n",
    "print(set1)\n"
   ]
  },
  {
   "cell_type": "markdown",
   "id": "e07a617f",
   "metadata": {},
   "source": [
    "### Assignment 9: Set and List Conversion\n",
    "\n",
    "Create a set with the first 5 positive integers. Convert it to a list, append the number 6, and convert it back to a set. Print the resulting set.\n"
   ]
  },
  {
   "cell_type": "code",
   "execution_count": 15,
   "id": "8b6636f7",
   "metadata": {},
   "outputs": [
    {
     "name": "stdout",
     "output_type": "stream",
     "text": [
      "Resulting set is :- {1, 2, 3, 4, 5, 6}\n",
      " type of resulting set is <class 'set'>\n"
     ]
    }
   ],
   "source": [
    "set1 = set(range(1,6))\n",
    "lst = list(set1)\n",
    "lst.append(6)\n",
    "print(f\"Resulting set is :- {set(lst)}\\n type of resulting set is {type(set(lst))}\")"
   ]
  },
  {
   "cell_type": "markdown",
   "id": "5b683b18",
   "metadata": {},
   "source": [
    "### Assignment 10: Set and Dictionary\n",
    "\n",
    "Create a dictionary with set keys and integer values. Print the dictionary.\n",
    "\n"
   ]
  },
  {
   "cell_type": "code",
   "execution_count": 17,
   "id": "bf0330d3",
   "metadata": {},
   "outputs": [
    {
     "name": "stdout",
     "output_type": "stream",
     "text": [
      "{frozenset({1, 2}): 3, frozenset({4, 5}): 6, frozenset({8, 7}): 9}\n"
     ]
    }
   ],
   "source": [
    "dict = {\n",
    "   frozenset( {1,2}):3,\n",
    "    frozenset({4,5}):6,\n",
    "    frozenset({7,8}):9,\n",
    "\n",
    "}\n",
    "print(dict)"
   ]
  },
  {
   "cell_type": "markdown",
   "id": "67b568ae",
   "metadata": {},
   "source": [
    "### Assignment 11: Iterating Over Sets\n",
    "\n",
    "Create a set and iterate over the elements, printing each element.\n"
   ]
  },
  {
   "cell_type": "code",
   "execution_count": 19,
   "id": "aaea7e9e",
   "metadata": {},
   "outputs": [
    {
     "name": "stdout",
     "output_type": "stream",
     "text": [
      "Set elements:- 1,2,3,4,5,6,"
     ]
    }
   ],
   "source": [
    "st = {1, 2, 3, 4, 5, 6}\n",
    "print(\"Set elements:- \",end='')\n",
    "for i in st:\n",
    "    print(i,end=',')"
   ]
  },
  {
   "cell_type": "markdown",
   "id": "054ca08b",
   "metadata": {},
   "source": [
    "\n",
    "### Assignment 12: Removing Elements from Sets\n",
    "\n",
    "Create a set and remove elements from it until it is empty. Print the set after each removal."
   ]
  },
  {
   "cell_type": "code",
   "execution_count": 21,
   "id": "7fb51942",
   "metadata": {},
   "outputs": [
    {
     "name": "stdout",
     "output_type": "stream",
     "text": [
      "1 2 3 4 5 6 "
     ]
    }
   ],
   "source": [
    "st = {1, 2, 3, 4, 5, 6}\n",
    "while st:\n",
    "    a = st.pop()\n",
    "    print(a, end=' ')\n"
   ]
  },
  {
   "cell_type": "markdown",
   "id": "03db2607",
   "metadata": {},
   "source": [
    "### Assignment 13: Set Symmetric Difference Update\n",
    "\n",
    "Create two sets and update the first set with the symmetric difference of the two sets. Print the modified first set.\n",
    "\n"
   ]
  },
  {
   "cell_type": "code",
   "execution_count": 23,
   "id": "7b29ddb3",
   "metadata": {},
   "outputs": [
    {
     "name": "stdout",
     "output_type": "stream",
     "text": [
      "Modifien set is :- {1, 2, 3, 4, 5, 6, 7, 8, 9, 10, 12, 14, 16, 18, 20}\n"
     ]
    }
   ],
   "source": [
    "set1 = {1,2,3,4,5,6,7,8,9,10}\n",
    "set2 = {2,4,6,8,10,12,14,16,18,20}\n",
    "sementric_df = set1.symmetric_difference(set2)\n",
    "print(f\"Modifien set is :- {set1.union(sementric_df)}\")"
   ]
  },
  {
   "cell_type": "markdown",
   "id": "cb41424f",
   "metadata": {},
   "source": [
    "### Assignment 14: Set Membership Testing\n",
    "\n",
    "Create a set and test if certain elements are present in the set. Print the results."
   ]
  },
  {
   "cell_type": "code",
   "execution_count": 1,
   "id": "a0ff0117",
   "metadata": {},
   "outputs": [
    {
     "name": "stdout",
     "output_type": "stream",
     "text": [
      "Number is present in the list.\n"
     ]
    }
   ],
   "source": [
    "sets = {1,2,3,4,6,7,8,9}\n",
    "num = 4\n",
    "if num in sets:\n",
    "    print(\"Number is present in the list.\")\n",
    "else:\n",
    "    print(\"Number is not present int\")"
   ]
  },
  {
   "cell_type": "markdown",
   "id": "da3f1fd6",
   "metadata": {},
   "source": [
    "### Assignment 15: Set of Tuples\n",
    "\n",
    "Create a set containing tuples, where each tuple contains two elements. Print the set."
   ]
  },
  {
   "cell_type": "code",
   "execution_count": 5,
   "id": "e33291af",
   "metadata": {},
   "outputs": [
    {
     "name": "stdout",
     "output_type": "stream",
     "text": [
      "Set with touple :- [(11, 12), (9, 10), (7, 8), (5, 6), (3, 4), (1, 2)]\n"
     ]
    }
   ],
   "source": [
    "set_with_touple = {(1,2),(3,4),(5,6),(7,8),(9,10),(11,12)}\n",
    "print(f\"Set with touple :- {sorted(set_with_touple,reverse=True)}\")"
   ]
  }
 ],
 "metadata": {
  "kernelspec": {
   "display_name": "Python 3",
   "language": "python",
   "name": "python3"
  },
  "language_info": {
   "codemirror_mode": {
    "name": "ipython",
    "version": 3
   },
   "file_extension": ".py",
   "mimetype": "text/x-python",
   "name": "python",
   "nbconvert_exporter": "python",
   "pygments_lexer": "ipython3",
   "version": "3.12.1"
  }
 },
 "nbformat": 4,
 "nbformat_minor": 5
}
