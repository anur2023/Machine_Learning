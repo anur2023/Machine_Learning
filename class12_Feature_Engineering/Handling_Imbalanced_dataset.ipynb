{
 "cells": [
  {
   "cell_type": "markdown",
   "metadata": {},
   "source": [
    "#### Handling Imbalanced datasets"
   ]
  },
  {
   "cell_type": "code",
   "execution_count": 1,
   "metadata": {},
   "outputs": [],
   "source": [
    "import pandas as pd \n",
    "import numpy as np "
   ]
  },
  {
   "cell_type": "code",
   "execution_count": 10,
   "metadata": {},
   "outputs": [
    {
     "data": {
      "text/plain": [
       "(900, 100)"
      ]
     },
     "execution_count": 10,
     "metadata": {},
     "output_type": "execute_result"
    }
   ],
   "source": [
    "np.random.seed(123)\n",
    "n_sample = 1000\n",
    "class_0_ratio = 0.9\n",
    "n_class_0 = int(n_sample * class_0_ratio)\n",
    "n_class_1 = int(n_sample / 10)\n",
    "n_class_0  , n_class_1"
   ]
  },
  {
   "cell_type": "markdown",
   "metadata": {},
   "source": [
    "#### Creating a dataFrame with imbalanced dataset"
   ]
  },
  {
   "cell_type": "code",
   "execution_count": 18,
   "metadata": {},
   "outputs": [],
   "source": [
    "class_0 = pd.DataFrame(\n",
    "    {\n",
    "        'feature_1': np.random.normal(loc=0,scale=1,size=n_class_0),\n",
    "         'feature_2': np.random.normal(loc=0,scale=1,size=n_class_0),\n",
    "         'target' : [0]*n_class_0\n",
    "    }\n",
    ")\n",
    "class_1 = pd.DataFrame(\n",
    "    {\n",
    "        'feature_1': np.random.normal(loc=2,scale=1,size=n_class_1),\n",
    "         'feature_2': np.random.normal(loc=2,scale=1,size=n_class_1),\n",
    "         'target' : [1]*n_class_1\n",
    "    }\n",
    ")"
   ]
  },
  {
   "cell_type": "code",
   "execution_count": null,
   "metadata": {},
   "outputs": [],
   "source": []
  },
  {
   "cell_type": "code",
   "execution_count": 19,
   "metadata": {},
   "outputs": [
    {
     "data": {
      "text/plain": [
       "(   feature_1  feature_2  target\n",
       " 0  -0.643425   2.571923       1\n",
       " 1   1.551009   1.782767       1\n",
       " 2   1.641093   2.054318       1\n",
       " 3   2.133194   2.155998       1\n",
       " 4   1.355758   2.467810       1,\n",
       "    feature_1  feature_2  target\n",
       " 0  -1.774224   0.285744       0\n",
       " 1  -1.201377   0.333279       0\n",
       " 2   1.096257   0.531807       0\n",
       " 3   0.861037  -0.354766       0\n",
       " 4  -1.520367  -1.120815       0)"
      ]
     },
     "execution_count": 19,
     "metadata": {},
     "output_type": "execute_result"
    }
   ],
   "source": [
    "class_1.head(),class_0.head()"
   ]
  },
  {
   "cell_type": "code",
   "execution_count": 20,
   "metadata": {},
   "outputs": [],
   "source": [
    "df = pd.concat([class_0,class_1]).reset_index(drop=True)"
   ]
  },
  {
   "cell_type": "code",
   "execution_count": 21,
   "metadata": {},
   "outputs": [
    {
     "data": {
      "text/html": [
       "<div>\n",
       "<style scoped>\n",
       "    .dataframe tbody tr th:only-of-type {\n",
       "        vertical-align: middle;\n",
       "    }\n",
       "\n",
       "    .dataframe tbody tr th {\n",
       "        vertical-align: top;\n",
       "    }\n",
       "\n",
       "    .dataframe thead th {\n",
       "        text-align: right;\n",
       "    }\n",
       "</style>\n",
       "<table border=\"1\" class=\"dataframe\">\n",
       "  <thead>\n",
       "    <tr style=\"text-align: right;\">\n",
       "      <th></th>\n",
       "      <th>feature_1</th>\n",
       "      <th>feature_2</th>\n",
       "      <th>target</th>\n",
       "    </tr>\n",
       "  </thead>\n",
       "  <tbody>\n",
       "    <tr>\n",
       "      <th>0</th>\n",
       "      <td>-1.774224</td>\n",
       "      <td>0.285744</td>\n",
       "      <td>0</td>\n",
       "    </tr>\n",
       "    <tr>\n",
       "      <th>1</th>\n",
       "      <td>-1.201377</td>\n",
       "      <td>0.333279</td>\n",
       "      <td>0</td>\n",
       "    </tr>\n",
       "    <tr>\n",
       "      <th>2</th>\n",
       "      <td>1.096257</td>\n",
       "      <td>0.531807</td>\n",
       "      <td>0</td>\n",
       "    </tr>\n",
       "    <tr>\n",
       "      <th>3</th>\n",
       "      <td>0.861037</td>\n",
       "      <td>-0.354766</td>\n",
       "      <td>0</td>\n",
       "    </tr>\n",
       "    <tr>\n",
       "      <th>4</th>\n",
       "      <td>-1.520367</td>\n",
       "      <td>-1.120815</td>\n",
       "      <td>0</td>\n",
       "    </tr>\n",
       "  </tbody>\n",
       "</table>\n",
       "</div>"
      ],
      "text/plain": [
       "   feature_1  feature_2  target\n",
       "0  -1.774224   0.285744       0\n",
       "1  -1.201377   0.333279       0\n",
       "2   1.096257   0.531807       0\n",
       "3   0.861037  -0.354766       0\n",
       "4  -1.520367  -1.120815       0"
      ]
     },
     "execution_count": 21,
     "metadata": {},
     "output_type": "execute_result"
    }
   ],
   "source": [
    "df.head()"
   ]
  },
  {
   "cell_type": "code",
   "execution_count": 35,
   "metadata": {},
   "outputs": [
    {
     "data": {
      "text/plain": [
       "0.1434918080329678"
      ]
     },
     "execution_count": 35,
     "metadata": {},
     "output_type": "execute_result"
    }
   ],
   "source": [
    "df['feature_1'].median()"
   ]
  },
  {
   "cell_type": "code",
   "execution_count": 22,
   "metadata": {},
   "outputs": [
    {
     "data": {
      "text/plain": [
       "target\n",
       "0    900\n",
       "1    100\n",
       "Name: count, dtype: int64"
      ]
     },
     "execution_count": 22,
     "metadata": {},
     "output_type": "execute_result"
    }
   ],
   "source": [
    "df['target'].value_counts()"
   ]
  },
  {
   "cell_type": "markdown",
   "metadata": {},
   "source": [
    "#### We can handles data_unbalancing by sampling"
   ]
  },
  {
   "cell_type": "code",
   "execution_count": 24,
   "metadata": {},
   "outputs": [
    {
     "data": {
      "text/plain": [
       "(     feature_1  feature_2  target\n",
       " 900  -0.643425   2.571923       1\n",
       " 901   1.551009   1.782767       1\n",
       " 902   1.641093   2.054318       1\n",
       " 903   2.133194   2.155998       1\n",
       " 904   1.355758   2.467810       1\n",
       " ..         ...        ...     ...\n",
       " 995   2.677156   1.092048       1\n",
       " 996   2.963404   0.181955       1\n",
       " 997   1.621476   1.877267       1\n",
       " 998   3.429559   3.794486       1\n",
       " 999   3.532273   1.679490       1\n",
       " \n",
       " [100 rows x 3 columns],\n",
       "      feature_1  feature_2  target\n",
       " 0    -1.774224   0.285744       0\n",
       " 1    -1.201377   0.333279       0\n",
       " 2     1.096257   0.531807       0\n",
       " 3     0.861037  -0.354766       0\n",
       " 4    -1.520367  -1.120815       0\n",
       " ..         ...        ...     ...\n",
       " 895  -0.896718   2.540514       0\n",
       " 896   0.812571  -0.082706       0\n",
       " 897   0.637361   0.444621       0\n",
       " 898   0.332712   1.896404       0\n",
       " 899   0.258237   0.237581       0\n",
       " \n",
       " [900 rows x 3 columns])"
      ]
     },
     "execution_count": 24,
     "metadata": {},
     "output_type": "execute_result"
    }
   ],
   "source": [
    "df_minority = df[df['target'] == 1]\n",
    "df_mejority = df[df['target'] == 0]\n",
    "\n",
    "df_minority,df_mejority"
   ]
  },
  {
   "cell_type": "code",
   "execution_count": 26,
   "metadata": {},
   "outputs": [],
   "source": [
    "from sklearn.utils import resample\n",
    "\n",
    "updated_minority_data = resample(df_minority,n_samples=len(df_mejority) , random_state=42,replace=True)"
   ]
  },
  {
   "cell_type": "code",
   "execution_count": 28,
   "metadata": {},
   "outputs": [
    {
     "data": {
      "text/plain": [
       "((900, 3), (900, 3))"
      ]
     },
     "execution_count": 28,
     "metadata": {},
     "output_type": "execute_result"
    }
   ],
   "source": [
    "updated_minority_data.shape, df_mejority.shape\n"
   ]
  },
  {
   "cell_type": "code",
   "execution_count": 32,
   "metadata": {},
   "outputs": [
    {
     "data": {
      "text/plain": [
       "(1800, 3)"
      ]
     },
     "execution_count": 32,
     "metadata": {},
     "output_type": "execute_result"
    }
   ],
   "source": [
    "df_upsampled = pd.concat([df_mejority,updated_minority_data])\n",
    "df_upsampled.head()\n",
    "df_upsampled.shape"
   ]
  },
  {
   "cell_type": "code",
   "execution_count": 37,
   "metadata": {},
   "outputs": [
    {
     "data": {
      "text/plain": [
       "(0.13212647208803258, 1.0734584057633259)"
      ]
     },
     "execution_count": 37,
     "metadata": {},
     "output_type": "execute_result"
    }
   ],
   "source": [
    "df['feature_1'].median(),df_upsampled['feature_1'].median()\n",
    "df['feature_2'].median(),df_upsampled['feature_2'].median()"
   ]
  },
  {
   "cell_type": "code",
   "execution_count": 39,
   "metadata": {},
   "outputs": [
    {
     "data": {
      "text/plain": [
       "target\n",
       "0    900\n",
       "1    900\n",
       "Name: count, dtype: int64"
      ]
     },
     "execution_count": 39,
     "metadata": {},
     "output_type": "execute_result"
    }
   ],
   "source": [
    "df_upsampled['target'].value_counts()"
   ]
  },
  {
   "cell_type": "code",
   "execution_count": 41,
   "metadata": {},
   "outputs": [
    {
     "data": {
      "text/plain": [
       "((900, 3), (100, 3))"
      ]
     },
     "execution_count": 41,
     "metadata": {},
     "output_type": "execute_result"
    }
   ],
   "source": [
    "df_minority = df[df['target'] == 1]\n",
    "df_mejority = df[df['target'] == 0]\n",
    "df_mejority.shape,df_minority.shape"
   ]
  },
  {
   "cell_type": "code",
   "execution_count": 43,
   "metadata": {},
   "outputs": [
    {
     "data": {
      "text/plain": [
       "(100, 3)"
      ]
     },
     "execution_count": 43,
     "metadata": {},
     "output_type": "execute_result"
    }
   ],
   "source": [
    "df_down_sample_mejority_updated = resample(df_mejority,replace=False,random_state=42,n_samples=len(df_minority))\n",
    "df_down_sample_mejority_updated.shape"
   ]
  },
  {
   "cell_type": "code",
   "execution_count": 44,
   "metadata": {},
   "outputs": [
    {
     "data": {
      "text/plain": [
       "target\n",
       "0    100\n",
       "Name: count, dtype: int64"
      ]
     },
     "execution_count": 44,
     "metadata": {},
     "output_type": "execute_result"
    }
   ],
   "source": [
    "df_down_sample_mejority_updated['target'].value_counts()"
   ]
  },
  {
   "cell_type": "code",
   "execution_count": 45,
   "metadata": {},
   "outputs": [],
   "source": [
    "df_down_updated_sample = pd.concat([df_down_sample_mejority_updated,df_minority])"
   ]
  },
  {
   "cell_type": "code",
   "execution_count": 47,
   "metadata": {},
   "outputs": [
    {
     "data": {
      "text/plain": [
       "target\n",
       "0    100\n",
       "1    100\n",
       "Name: count, dtype: int64"
      ]
     },
     "execution_count": 47,
     "metadata": {},
     "output_type": "execute_result"
    }
   ],
   "source": [
    "df_down_updated_sample['target'].value_counts()"
   ]
  }
 ],
 "metadata": {
  "kernelspec": {
   "display_name": "Python 3",
   "language": "python",
   "name": "python3"
  },
  "language_info": {
   "codemirror_mode": {
    "name": "ipython",
    "version": 3
   },
   "file_extension": ".py",
   "mimetype": "text/x-python",
   "name": "python",
   "nbconvert_exporter": "python",
   "pygments_lexer": "ipython3",
   "version": "3.12.1"
  }
 },
 "nbformat": 4,
 "nbformat_minor": 2
}
