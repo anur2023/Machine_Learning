{
 "cells": [
  {
   "cell_type": "markdown",
   "metadata": {},
   "source": [
    "# Module 2: Control Flow Assignments\n",
    "## Lesson 2.1: Conditional Statements\n",
    "### Assignment 1: Simple if Statement\n",
    "\n",
    "Write a program that asks the user to input a number and prints whether the number is positive.\n",
    "\n",
    "### Assignment 2: if-else Statement\n",
    "\n",
    "Write a program that asks the user to input a number and prints whether the number is positive or negative.\n",
    "\n",
    "### Assignment 3: if-elif-else Statement\n",
    "\n",
    "Write a program that asks the user to input a number and prints whether the number is positive, negative, or zero.\n",
    "\n",
    "### Assignment 4: Nested if Statement\n",
    "\n",
    "Write a program that asks the user to input a number and prints whether the number is positive and even, positive and odd, or negative.\n",
    "\n",
    "## Lesson 2.2: Loops\n",
    "### Assignment 5: for Loop\n",
    "\n",
    "Write a program that prints all the numbers from 1 to 10 using a for loop.\n",
    "\n",
    "### Assignment 6: while Loop\n",
    "\n",
    "Write a program that prints all the numbers from 1 to 10 using a while loop.\n",
    "\n",
    "### Assignment 7: Nested Loops\n",
    "\n",
    "Write a program that prints a 5x5 grid of asterisks (*) using nested loops.\n",
    "\n",
    "### Assignment 8: break Statement\n",
    "\n",
    "Write a program that asks the user to input numbers until they input 0. The program should print the sum of all the input numbers.\n",
    "\n",
    "### Assignment 9: continue Statement\n",
    "\n",
    "Write a program that prints all the numbers from 1 to 10 except 5 using a for loop and continue statement.\n",
    "\n",
    "### Assignment 10: pass Statement\n",
    "\n",
    "Write a program that defines an empty function using the pass statement.\n",
    "\n",
    "### Assignment 11: Combining Loops and Conditionals\n",
    "\n",
    "Write a program that asks the user to input a number and prints all the even numbers from 1 to that number using a for loop.\n",
    "\n",
    "### Assignment 12: Factorial Calculation\n",
    "\n",
    "Write a program that calculates the factorial of a number input by the user using a while loop.\n",
    "\n",
    "### Assignment 13: Sum of Digits\n",
    "\n",
    "Write a program that calculates the sum of the digits of a number input by the user using a while loop.\n",
    "\n",
    "### Assignment 14: Prime Number Check\n",
    "\n",
    "Write a program that checks if a number input by the user is a prime number using a for loop.\n",
    "\n",
    "### Assignment 15: Fibonacci Sequence\n",
    "\n",
    "Write a program that prints the first n Fibonacci numbers, where n is input by the user."
   ]
  },
  {
   "cell_type": "markdown",
   "id": "c91d07a3",
   "metadata": {},
   "source": [
    "Ques: Write a program that asks the user to input a number and prints whether the number is positive."
   ]
  },
  {
   "cell_type": "code",
   "execution_count": 6,
   "id": "c4b138f3",
   "metadata": {},
   "outputs": [
    {
     "name": "stdout",
     "output_type": "stream",
     "text": [
      "Entered number is positive.\n"
     ]
    }
   ],
   "source": [
    "number = int(input(\"Enter the number please:- \"))\n",
    "if number>0:\n",
    "    print(\"Entered number is positive.\")\n",
    "\n"
   ]
  },
  {
   "cell_type": "markdown",
   "id": "f04d72d8",
   "metadata": {},
   "source": [
    "2. Write a program that asks the user to input a number and prints whether the number is positive or negative."
   ]
  },
  {
   "cell_type": "code",
   "execution_count": 5,
   "id": "0ae61fae",
   "metadata": {},
   "outputs": [
    {
     "name": "stdout",
     "output_type": "stream",
     "text": [
      "Entered number is positive.\n"
     ]
    }
   ],
   "source": [
    "number = int(input(\"Enter the number please:- \"))\n",
    "if number>=0: #here we are considering zero as a positive number \n",
    "    print(\"Entered number is positive.\")\n",
    "else:\n",
    "    print(\"Entered number is negative.\")\n"
   ]
  },
  {
   "cell_type": "markdown",
   "id": "2de99833",
   "metadata": {},
   "source": [
    "3. Write a program that asks the user to input a number and prints whether the number is positive, negative, or zero."
   ]
  },
  {
   "cell_type": "code",
   "execution_count": 8,
   "id": "4c9a83ff",
   "metadata": {},
   "outputs": [
    {
     "name": "stdout",
     "output_type": "stream",
     "text": [
      "Entered number is zero.\n"
     ]
    }
   ],
   "source": [
    "number = int(input(\"Enter the number please:- \"))\n",
    "if number>0:\n",
    "    print(\"Entered number is positive.\")\n",
    "elif number<0:\n",
    "    print(\"Entered number is negative.\")\n",
    "else:\n",
    "    print(\"Entered number is zero.\")\n"
   ]
  },
  {
   "cell_type": "markdown",
   "id": "1fdb80c4",
   "metadata": {},
   "source": [
    "4. Write a program that asks the user to input a number and prints whether the number is positive and even, positive and odd, or negative."
   ]
  },
  {
   "cell_type": "code",
   "execution_count": 10,
   "id": "508103be",
   "metadata": {},
   "outputs": [
    {
     "name": "stdout",
     "output_type": "stream",
     "text": [
      "Entered number is a negative number.\n"
     ]
    }
   ],
   "source": [
    "number = int(input(\"Enter a number please:- \"))\n",
    "if number>0:\n",
    "    if number%2 == 0:\n",
    "        print(f\"Entered number {number} is positive and even number\")\n",
    "    else:\n",
    "        print(f\"Entered number {number} is positive and odd number\")\n",
    "else:\n",
    "    print(\"Entered number is a negative number.\")\n"
   ]
  },
  {
   "cell_type": "markdown",
   "id": "04ac77bb",
   "metadata": {},
   "source": [
    "### Assignment 5: for Loop\n",
    "\n",
    "Write a program that prints all the numbers from 1 to 10 using a for loop."
   ]
  },
  {
   "cell_type": "code",
   "execution_count": 11,
   "id": "2674752d",
   "metadata": {},
   "outputs": [
    {
     "name": "stdout",
     "output_type": "stream",
     "text": [
      "1 2 3 4 5 6 7 8 9 10 "
     ]
    }
   ],
   "source": [
    "for i in range(1,11):\n",
    "    print(i,end=\" \")"
   ]
  },
  {
   "cell_type": "markdown",
   "id": "4e960b53",
   "metadata": {},
   "source": [
    "### Assignment 6: while Loop\n",
    "\n",
    "Write a program that prints all the numbers from 1 to 10 using a while loop."
   ]
  },
  {
   "cell_type": "code",
   "execution_count": 1,
   "id": "80c551d6",
   "metadata": {},
   "outputs": [
    {
     "name": "stdout",
     "output_type": "stream",
     "text": [
      "1 2 3 4 5 6 7 8 9 10 "
     ]
    }
   ],
   "source": [
    "number = 1\n",
    "while(number<=10):\n",
    "    print(number,end=\" \")\n",
    "    number +=1\n"
   ]
  },
  {
   "cell_type": "markdown",
   "id": "11ecc090",
   "metadata": {},
   "source": [
    "### Assignment 7: Nested Loops\n",
    "\n",
    "Write a program that prints a 5x5 grid of asterisks (*) using nested loops."
   ]
  },
  {
   "cell_type": "code",
   "execution_count": 5,
   "id": "b470688c",
   "metadata": {},
   "outputs": [
    {
     "name": "stdout",
     "output_type": "stream",
     "text": [
      "*  *  *  *  *  \n",
      "*  *  *  *  *  \n",
      "*  *  *  *  *  \n",
      "*  *  *  *  *  \n",
      "*  *  *  *  *  \n"
     ]
    }
   ],
   "source": [
    "for i in range(5):\n",
    "    for j in range(5):\n",
    "        print(\"*\",end=\"  \")\n",
    "    print()\n"
   ]
  },
  {
   "cell_type": "markdown",
   "id": "ed7b9110",
   "metadata": {},
   "source": [
    "### Assignment 8: break Statement\n",
    "\n",
    "Write a program that asks the user to input numbers until they input 0. The program should print the sum of all the input numbers."
   ]
  },
  {
   "cell_type": "code",
   "execution_count": 11,
   "id": "56b66399",
   "metadata": {},
   "outputs": [
    {
     "name": "stdout",
     "output_type": "stream",
     "text": [
      "6 , 8 , 9 , 5 , 4 , 3 , 5 , 3 , 5 , \n",
      "Total sum of inputs number :- 48\n"
     ]
    }
   ],
   "source": [
    "total_sum = 0\n",
    "while True:\n",
    "    number = int(input(\"Enter the number please :- \"))\n",
    "    if number == 0:\n",
    "        break\n",
    "    total_sum += number\n",
    "    print( f\"{number}, \",end=\"\")\n",
    "print()\n",
    "print(f\"Total sum of inputs number :- {total_sum}\")"
   ]
  },
  {
   "cell_type": "markdown",
   "id": "12c526d6",
   "metadata": {},
   "source": [
    "### Assignment 9: continue Statement\n",
    "\n",
    "Write a program that prints all the numbers from 1 to 10 except 5 using a for loop and continue statement.\n"
   ]
  },
  {
   "cell_type": "code",
   "execution_count": 12,
   "id": "a564661e",
   "metadata": {},
   "outputs": [
    {
     "name": "stdout",
     "output_type": "stream",
     "text": [
      "1 2 3 4 6 7 8 9 10 "
     ]
    }
   ],
   "source": [
    "for i in range(1,11):\n",
    "    if i == 5:\n",
    "        continue\n",
    "    print(i,end=\" \")"
   ]
  },
  {
   "cell_type": "markdown",
   "id": "d3a54599",
   "metadata": {},
   "source": [
    "### Assignment 10: pass Statement\n",
    "\n",
    "Write a program that defines an empty function using the pass statement."
   ]
  },
  {
   "cell_type": "code",
   "execution_count": 13,
   "id": "f0fd18f3",
   "metadata": {},
   "outputs": [],
   "source": [
    "def Empty_function():\n",
    "    pass\n",
    "\n",
    "Empty_function()"
   ]
  },
  {
   "cell_type": "markdown",
   "metadata": {},
   "source": [
    "### Assignment 11: Combining Loops and Conditionals\n",
    "\n",
    "Write a program that asks the user to input a number and prints all the even numbers from 1 to that number using a for loop."
   ]
  },
  {
   "cell_type": "code",
   "execution_count": 14,
   "id": "85a457c6",
   "metadata": {},
   "outputs": [
    {
     "name": "stdout",
     "output_type": "stream",
     "text": [
      "2, 4, 6, 8, 10, 12, 14, 16, 18, 20, "
     ]
    }
   ],
   "source": [
    "number = int(input(\"Enter a number please :- \"))\n",
    "for i in range(1,number+1):\n",
    "    if i%2 != 0:\n",
    "        continue\n",
    "    print(i,end=\", \")"
   ]
  },
  {
   "cell_type": "markdown",
   "id": "50df9cc7",
   "metadata": {},
   "source": [
    "### Assignment 12: Factorial Calculation\n",
    "\n",
    "Write a program that calculates the factorial of a number input by the user using a while loop."
   ]
  },
  {
   "cell_type": "code",
   "execution_count": 17,
   "id": "de230555",
   "metadata": {},
   "outputs": [
    {
     "name": "stdout",
     "output_type": "stream",
     "text": [
      "Factorial of the number 12 is:- 479001600\n"
     ]
    }
   ],
   "source": [
    "number = int(input(\"Enter the number:- \"))\n",
    "factorial_result  = 1\n",
    "num = number\n",
    "while(number>1):\n",
    "    factorial_result *= number\n",
    "    number -= 1\n",
    "\n",
    "print(f\"Factorial of the number {num} is:- {factorial_result}\")\n"
   ]
  },
  {
   "cell_type": "markdown",
   "id": "c966eb04",
   "metadata": {},
   "source": [
    "### Assignment 13: Sum of Digits\n",
    "\n",
    "Write a program that calculates the sum of the digits of a number input by the user using a while loop."
   ]
  },
  {
   "cell_type": "code",
   "execution_count": 2,
   "id": "a66d2ec2",
   "metadata": {},
   "outputs": [
    {
     "name": "stdout",
     "output_type": "stream",
     "text": [
      "Sum of entered number 123445 digit is - 19\n"
     ]
    }
   ],
   "source": [
    "number = int(input(\"Enter the number:- \"))\n",
    "sum = 0\n",
    "p = number\n",
    "while(number>0):\n",
    "    n = number%10\n",
    "    sum += n\n",
    "    number = number//10\n",
    "print(f\"Sum of entered number {p} digit is - {sum}\")\n",
    "\n",
    "\n"
   ]
  },
  {
   "cell_type": "markdown",
   "id": "f2e58b01",
   "metadata": {},
   "source": [
    "### Assignment 14: Prime Number Check\n",
    "\n",
    "Write a program that checks if a number input by the user is a prime number using a for loop.\n",
    "\n"
   ]
  },
  {
   "cell_type": "code",
   "execution_count": 6,
   "id": "5dc3bbf2",
   "metadata": {},
   "outputs": [
    {
     "name": "stdout",
     "output_type": "stream",
     "text": [
      "Entered number 9 is not a prime number.\n"
     ]
    }
   ],
   "source": [
    "number = int(input(\"Enter a number :- \"))\n",
    "count = 0\n",
    "for i in range(1,number+1):\n",
    "    if(number %i == 0):\n",
    "        count += 1\n",
    "        if count>2:\n",
    "            break\n",
    "if count == 2:\n",
    "\n",
    "    print(f\"The number {number} you have entered is a prime number.\")\n",
    "else:\n",
    "    print(f\"Entered number {number} is not a prime number.\")"
   ]
  },
  {
   "cell_type": "markdown",
   "id": "2de23edc",
   "metadata": {},
   "source": [
    "### Assignment 15: Fibonacci Sequence\n",
    "\n",
    "Write a program that prints the first n Fibonacci numbers, where n is input by the user."
   ]
  },
  {
   "cell_type": "code",
   "execution_count": 7,
   "id": "8c3b1849",
   "metadata": {},
   "outputs": [
    {
     "name": "stdout",
     "output_type": "stream",
     "text": [
      "0\n",
      "1\n",
      "1\n"
     ]
    }
   ],
   "source": [
    "n = int(input(\"Enter the number of Fibonacci numbers to print: \"))\n",
    "a, b = 0, 1\n",
    "count = 0\n",
    "while count < n:\n",
    "    print(a)\n",
    "    a, b = b, a + b\n",
    "    count += 1"
   ]
  }
 ],
 "metadata": {
  "kernelspec": {
   "display_name": "Python 3",
   "language": "python",
   "name": "python3"
  },
  "language_info": {
   "codemirror_mode": {
    "name": "ipython",
    "version": 3
   },
   "file_extension": ".py",
   "mimetype": "text/x-python",
   "name": "python",
   "nbconvert_exporter": "python",
   "pygments_lexer": "ipython3",
   "version": "3.12.1"
  }
 },
 "nbformat": 4,
 "nbformat_minor": 5
}
